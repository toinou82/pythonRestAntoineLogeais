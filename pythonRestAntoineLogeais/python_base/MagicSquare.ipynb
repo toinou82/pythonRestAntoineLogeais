{
 "cells": [
  {
   "cell_type": "markdown",
   "metadata": {},
   "source": [
    "# Magic Square"
   ]
  },
  {
   "cell_type": "code",
   "execution_count": 6,
   "metadata": {},
   "outputs": [],
   "source": [
    "import numpy as np\n",
    "from magicsquares_ex import *"
   ]
  },
  {
   "cell_type": "code",
   "execution_count": 25,
   "metadata": {},
   "outputs": [],
   "source": [
    "def allPresent(square):\n",
    "    n=len(square)\n",
    "    for i in range(1,n**2+1):\n",
    "        if i not in square:\n",
    "            return False\n",
    "    return True\n",
    "\n",
    "def isMagic(square):\n",
    "    n = len(square)\n",
    "    sm = n*(n**2 + 1)//2\n",
    "    return all(square.sum(axis=1) == sm) \\\n",
    "        and all(square.sum(axis=0) == sm) \\\n",
    "        and (square.diagonal().sum() == sm) \\\n",
    "        and (square[::-1].diagonal().sum() == sm) \\\n",
    "        and allPresent(square)"
   ]
  },
  {
   "cell_type": "code",
   "execution_count": 42,
   "metadata": {},
   "outputs": [],
   "source": [
    "def makeMagic(n):\n",
    "    if n%2 == 0:\n",
    "        # return no value or raise exception\n",
    "        return None\n",
    "    res = np.zeros((n,n), dtype=int)\n",
    "    i = 0\n",
    "    j = n//2\n",
    "    res[i,j] = 1\n",
    "    for v in range(2,n**2+1):\n",
    "        i = (i + 2) % n\n",
    "        j = (j + 1) % n\n",
    "        if res[i,j] > 0:\n",
    "            i = (i - 1) % n\n",
    "            j = (j - 1) % n\n",
    "        res[i,j] = v\n",
    "    return res"
   ]
  },
  {
   "cell_type": "code",
   "execution_count": 26,
   "metadata": {},
   "outputs": [
    {
     "name": "stdout",
     "output_type": "stream",
     "text": [
      "square3_ok: True\n",
      "square3_no_diag: False\n",
      "square3_no_row: False\n",
      "square3_no_col: False\n",
      "square3_no_row_diag: False\n",
      "square5_ok: True\n",
      "square4_albrecht_durer: True\n",
      "square4_josep_maria_subirachs: False\n",
      "square5_semi_diabolik: True\n",
      "square8_benjamin_franklin: False\n",
      "square8_general_cazalas: True\n",
      "square8_willem_barink: True\n",
      "square12_willem_barink: True\n"
     ]
    }
   ],
   "source": [
    "for name, square in squares_dict.items():\n",
    "    print(name, isMagic(square), sep=': ')"
   ]
  },
  {
   "cell_type": "code",
   "execution_count": 40,
   "metadata": {},
   "outputs": [
    {
     "data": {
      "text/plain": [
       "array([[8, 1, 6],\n",
       "       [3, 5, 7],\n",
       "       [4, 9, 2]])"
      ]
     },
     "execution_count": 40,
     "metadata": {},
     "output_type": "execute_result"
    }
   ],
   "source": [
    "makeMagic(3)"
   ]
  },
  {
   "cell_type": "code",
   "execution_count": 41,
   "metadata": {},
   "outputs": [
    {
     "data": {
      "text/plain": [
       "array([[23, 12,  1, 20,  9],\n",
       "       [ 4, 18,  7, 21, 15],\n",
       "       [10, 24, 13,  2, 16],\n",
       "       [11,  5, 19,  8, 22],\n",
       "       [17,  6, 25, 14,  3]])"
      ]
     },
     "execution_count": 41,
     "metadata": {},
     "output_type": "execute_result"
    }
   ],
   "source": [
    "makeMagic(5)"
   ]
  },
  {
   "cell_type": "code",
   "execution_count": 34,
   "metadata": {},
   "outputs": [],
   "source": [
    "makeMagic(4)"
   ]
  }
 ],
 "metadata": {
  "kernelspec": {
   "display_name": "Python 3",
   "language": "python",
   "name": "python3"
  },
  "language_info": {
   "codemirror_mode": {
    "name": "ipython",
    "version": 3
   },
   "file_extension": ".py",
   "mimetype": "text/x-python",
   "name": "python",
   "nbconvert_exporter": "python",
   "pygments_lexer": "ipython3",
   "version": "3.7.4"
  }
 },
 "nbformat": 4,
 "nbformat_minor": 2
}
