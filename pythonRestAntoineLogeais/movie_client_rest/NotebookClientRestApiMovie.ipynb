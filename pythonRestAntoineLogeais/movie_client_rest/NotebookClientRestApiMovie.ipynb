{
 "cells": [
  {
   "cell_type": "code",
   "execution_count": 1,
   "metadata": {},
   "outputs": [],
   "source": [
    "import pandas as pd\n",
    "import numpy as np\n",
    "import requests\n",
    "from datetime import datetime, date\n",
    "import matplotlib.pyplot as plt\n",
    "import matplotlib.ticker as ticker\n",
    "import matplotlib.dates as mdates\n"
   ]
  },
  {
   "cell_type": "code",
   "execution_count": 2,
   "metadata": {},
   "outputs": [
    {
     "data": {
      "text/html": [
       "<div>\n",
       "<style scoped>\n",
       "    .dataframe tbody tr th:only-of-type {\n",
       "        vertical-align: middle;\n",
       "    }\n",
       "\n",
       "    .dataframe tbody tr th {\n",
       "        vertical-align: top;\n",
       "    }\n",
       "\n",
       "    .dataframe thead th {\n",
       "        text-align: right;\n",
       "    }\n",
       "</style>\n",
       "<table border=\"1\" class=\"dataframe\">\n",
       "  <thead>\n",
       "    <tr style=\"text-align: right;\">\n",
       "      <th></th>\n",
       "      <th>title</th>\n",
       "      <th>year</th>\n",
       "      <th>duration</th>\n",
       "    </tr>\n",
       "    <tr>\n",
       "      <th>id</th>\n",
       "      <th></th>\n",
       "      <th></th>\n",
       "      <th></th>\n",
       "    </tr>\n",
       "  </thead>\n",
       "  <tbody>\n",
       "    <tr>\n",
       "      <th>5257</th>\n",
       "      <td>Excuse Me</td>\n",
       "      <td>1915</td>\n",
       "      <td>50.0</td>\n",
       "    </tr>\n",
       "    <tr>\n",
       "      <th>6366</th>\n",
       "      <td>Anton the Terrible</td>\n",
       "      <td>1916</td>\n",
       "      <td>50.0</td>\n",
       "    </tr>\n",
       "    <tr>\n",
       "      <th>8351</th>\n",
       "      <td>The Mysterious Mrs. Musslewhite</td>\n",
       "      <td>1917</td>\n",
       "      <td>50.0</td>\n",
       "    </tr>\n",
       "    <tr>\n",
       "      <th>8384</th>\n",
       "      <td>On the Level</td>\n",
       "      <td>1917</td>\n",
       "      <td>50.0</td>\n",
       "    </tr>\n",
       "    <tr>\n",
       "      <th>8642</th>\n",
       "      <td>The Sunset Trail</td>\n",
       "      <td>1917</td>\n",
       "      <td>50.0</td>\n",
       "    </tr>\n",
       "    <tr>\n",
       "      <th>...</th>\n",
       "      <td>...</td>\n",
       "      <td>...</td>\n",
       "      <td>...</td>\n",
       "    </tr>\n",
       "    <tr>\n",
       "      <th>11744604</th>\n",
       "      <td>Guardians of Life</td>\n",
       "      <td>2020</td>\n",
       "      <td>3.0</td>\n",
       "    </tr>\n",
       "    <tr>\n",
       "      <th>11833768</th>\n",
       "      <td>Neil Cicierega: Wow Wow (Audio)</td>\n",
       "      <td>2017</td>\n",
       "      <td>3.0</td>\n",
       "    </tr>\n",
       "    <tr>\n",
       "      <th>11885402</th>\n",
       "      <td>Dan Aykroyd and Tom Hanks: City of Crime</td>\n",
       "      <td>1987</td>\n",
       "      <td>NaN</td>\n",
       "    </tr>\n",
       "    <tr>\n",
       "      <th>11911992</th>\n",
       "      <td>Bleu de Chanel: The Film</td>\n",
       "      <td>2018</td>\n",
       "      <td>1.0</td>\n",
       "    </tr>\n",
       "    <tr>\n",
       "      <th>12771922</th>\n",
       "      <td>Neil Cicierega: Vivid Memories Turn to Fantasi...</td>\n",
       "      <td>2014</td>\n",
       "      <td>3.0</td>\n",
       "    </tr>\n",
       "  </tbody>\n",
       "</table>\n",
       "<p>1441 rows × 3 columns</p>\n",
       "</div>"
      ],
      "text/plain": [
       "                                                      title  year  duration\n",
       "id                                                                         \n",
       "5257                                              Excuse Me  1915      50.0\n",
       "6366                                     Anton the Terrible  1916      50.0\n",
       "8351                        The Mysterious Mrs. Musslewhite  1917      50.0\n",
       "8384                                           On the Level  1917      50.0\n",
       "8642                                       The Sunset Trail  1917      50.0\n",
       "...                                                     ...   ...       ...\n",
       "11744604                                  Guardians of Life  2020       3.0\n",
       "11833768                    Neil Cicierega: Wow Wow (Audio)  2017       3.0\n",
       "11885402           Dan Aykroyd and Tom Hanks: City of Crime  1987       NaN\n",
       "11911992                           Bleu de Chanel: The Film  2018       1.0\n",
       "12771922  Neil Cicierega: Vivid Memories Turn to Fantasi...  2014       3.0\n",
       "\n",
       "[1441 rows x 3 columns]"
      ]
     },
     "execution_count": 2,
     "metadata": {},
     "output_type": "execute_result"
    }
   ],
   "source": [
    "limit = 1500\n",
    "dfMovies = pd.read_json(f'http://localhost:8000/movies?limit={limit}')\n",
    "dfMovies.set_index('id', inplace=True)\n",
    "dfMovies"
   ]
  },
  {
   "cell_type": "code",
   "execution_count": 3,
   "metadata": {},
   "outputs": [
    {
     "data": {
      "text/plain": [
       "pandas.core.frame.DataFrame"
      ]
     },
     "execution_count": 3,
     "metadata": {},
     "output_type": "execute_result"
    }
   ],
   "source": [
    "type(dfMovies)"
   ]
  },
  {
   "cell_type": "code",
   "execution_count": 4,
   "metadata": {},
   "outputs": [
    {
     "data": {
      "text/html": [
       "<div>\n",
       "<style scoped>\n",
       "    .dataframe tbody tr th:only-of-type {\n",
       "        vertical-align: middle;\n",
       "    }\n",
       "\n",
       "    .dataframe tbody tr th {\n",
       "        vertical-align: top;\n",
       "    }\n",
       "\n",
       "    .dataframe thead th {\n",
       "        text-align: right;\n",
       "    }\n",
       "</style>\n",
       "<table border=\"1\" class=\"dataframe\">\n",
       "  <thead>\n",
       "    <tr style=\"text-align: right;\">\n",
       "      <th></th>\n",
       "      <th>year</th>\n",
       "      <th>movie_count</th>\n",
       "    </tr>\n",
       "  </thead>\n",
       "  <tbody>\n",
       "    <tr>\n",
       "      <th>0</th>\n",
       "      <td>1915</td>\n",
       "      <td>1</td>\n",
       "    </tr>\n",
       "    <tr>\n",
       "      <th>1</th>\n",
       "      <td>1916</td>\n",
       "      <td>1</td>\n",
       "    </tr>\n",
       "    <tr>\n",
       "      <th>2</th>\n",
       "      <td>1917</td>\n",
       "      <td>7</td>\n",
       "    </tr>\n",
       "    <tr>\n",
       "      <th>3</th>\n",
       "      <td>1918</td>\n",
       "      <td>10</td>\n",
       "    </tr>\n",
       "    <tr>\n",
       "      <th>4</th>\n",
       "      <td>1919</td>\n",
       "      <td>10</td>\n",
       "    </tr>\n",
       "    <tr>\n",
       "      <th>...</th>\n",
       "      <td>...</td>\n",
       "      <td>...</td>\n",
       "    </tr>\n",
       "    <tr>\n",
       "      <th>101</th>\n",
       "      <td>2016</td>\n",
       "      <td>15</td>\n",
       "    </tr>\n",
       "    <tr>\n",
       "      <th>102</th>\n",
       "      <td>2017</td>\n",
       "      <td>22</td>\n",
       "    </tr>\n",
       "    <tr>\n",
       "      <th>103</th>\n",
       "      <td>2018</td>\n",
       "      <td>20</td>\n",
       "    </tr>\n",
       "    <tr>\n",
       "      <th>104</th>\n",
       "      <td>2019</td>\n",
       "      <td>28</td>\n",
       "    </tr>\n",
       "    <tr>\n",
       "      <th>105</th>\n",
       "      <td>2020</td>\n",
       "      <td>6</td>\n",
       "    </tr>\n",
       "  </tbody>\n",
       "</table>\n",
       "<p>106 rows × 2 columns</p>\n",
       "</div>"
      ],
      "text/plain": [
       "     year  movie_count\n",
       "0    1915            1\n",
       "1    1916            1\n",
       "2    1917            7\n",
       "3    1918           10\n",
       "4    1919           10\n",
       "..    ...          ...\n",
       "101  2016           15\n",
       "102  2017           22\n",
       "103  2018           20\n",
       "104  2019           28\n",
       "105  2020            6\n",
       "\n",
       "[106 rows x 2 columns]"
      ]
     },
     "execution_count": 4,
     "metadata": {},
     "output_type": "execute_result"
    }
   ],
   "source": [
    "dfStatsMovieByYear = pd.read_json('http://localhost:8000/movies/count_by_year')\n",
    "dfStatsMovieByYear.columns=['year', 'movie_count']\n",
    "#dfStatsMovieByYear.set_index('year', inplace=True)\n",
    "dfStatsMovieByYear"
   ]
  },
  {
   "cell_type": "code",
   "execution_count": 5,
   "metadata": {},
   "outputs": [
    {
     "data": {
      "text/html": [
       "<div>\n",
       "<style scoped>\n",
       "    .dataframe tbody tr th:only-of-type {\n",
       "        vertical-align: middle;\n",
       "    }\n",
       "\n",
       "    .dataframe tbody tr th {\n",
       "        vertical-align: top;\n",
       "    }\n",
       "\n",
       "    .dataframe thead th {\n",
       "        text-align: right;\n",
       "    }\n",
       "</style>\n",
       "<table border=\"1\" class=\"dataframe\">\n",
       "  <thead>\n",
       "    <tr style=\"text-align: right;\">\n",
       "      <th></th>\n",
       "      <th>0</th>\n",
       "      <th>1</th>\n",
       "    </tr>\n",
       "  </thead>\n",
       "  <tbody>\n",
       "    <tr>\n",
       "      <th>0</th>\n",
       "      <td>{'birthdate': '1899-08-13', 'name': 'Alfred Hi...</td>\n",
       "      <td>60</td>\n",
       "    </tr>\n",
       "    <tr>\n",
       "      <th>1</th>\n",
       "      <td>{'birthdate': '1942-11-17', 'name': 'Martin Sc...</td>\n",
       "      <td>48</td>\n",
       "    </tr>\n",
       "    <tr>\n",
       "      <th>2</th>\n",
       "      <td>{'birthdate': '1946-12-18', 'name': 'Steven Sp...</td>\n",
       "      <td>41</td>\n",
       "    </tr>\n",
       "    <tr>\n",
       "      <th>3</th>\n",
       "      <td>{'birthdate': '1930-05-31', 'name': 'Clint Eas...</td>\n",
       "      <td>39</td>\n",
       "    </tr>\n",
       "    <tr>\n",
       "      <th>4</th>\n",
       "      <td>{'birthdate': '1940-09-11', 'name': 'Brian De ...</td>\n",
       "      <td>38</td>\n",
       "    </tr>\n",
       "    <tr>\n",
       "      <th>5</th>\n",
       "      <td>{'birthdate': '1937-11-30', 'name': 'Ridley Sc...</td>\n",
       "      <td>35</td>\n",
       "    </tr>\n",
       "    <tr>\n",
       "      <th>6</th>\n",
       "      <td>{'birthdate': '1946-09-22', 'name': 'John Woo'...</td>\n",
       "      <td>34</td>\n",
       "    </tr>\n",
       "    <tr>\n",
       "      <th>7</th>\n",
       "      <td>{'birthdate': '1959-10-23', 'name': 'Sam Raimi...</td>\n",
       "      <td>31</td>\n",
       "    </tr>\n",
       "    <tr>\n",
       "      <th>8</th>\n",
       "      <td>{'birthdate': '1969-10-09', 'name': 'Steve McQ...</td>\n",
       "      <td>31</td>\n",
       "    </tr>\n",
       "    <tr>\n",
       "      <th>9</th>\n",
       "      <td>{'birthdate': None, 'name': 'John Ford', 'id':...</td>\n",
       "      <td>20</td>\n",
       "    </tr>\n",
       "    <tr>\n",
       "      <th>10</th>\n",
       "      <td>{'birthdate': '1961-10-31', 'name': 'Peter Jac...</td>\n",
       "      <td>19</td>\n",
       "    </tr>\n",
       "    <tr>\n",
       "      <th>11</th>\n",
       "      <td>{'birthdate': '1956-10-20', 'name': 'Danny Boy...</td>\n",
       "      <td>18</td>\n",
       "    </tr>\n",
       "    <tr>\n",
       "      <th>12</th>\n",
       "      <td>{'birthdate': '1954-08-16', 'name': 'James Cam...</td>\n",
       "      <td>14</td>\n",
       "    </tr>\n",
       "    <tr>\n",
       "      <th>13</th>\n",
       "      <td>{'birthdate': '1963-03-27', 'name': 'Quentin T...</td>\n",
       "      <td>14</td>\n",
       "    </tr>\n",
       "    <tr>\n",
       "      <th>14</th>\n",
       "      <td>{'birthdate': None, 'name': 'Walter Edwards', ...</td>\n",
       "      <td>14</td>\n",
       "    </tr>\n",
       "    <tr>\n",
       "      <th>15</th>\n",
       "      <td>{'birthdate': None, 'name': 'Robert N. Bradbur...</td>\n",
       "      <td>13</td>\n",
       "    </tr>\n",
       "    <tr>\n",
       "      <th>16</th>\n",
       "      <td>{'birthdate': '1970-07-30', 'name': 'Christoph...</td>\n",
       "      <td>13</td>\n",
       "    </tr>\n",
       "    <tr>\n",
       "      <th>17</th>\n",
       "      <td>{'birthdate': '1957-09-21', 'name': 'Ethan Coe...</td>\n",
       "      <td>12</td>\n",
       "    </tr>\n",
       "    <tr>\n",
       "      <th>18</th>\n",
       "      <td>{'birthdate': '1969-09-14', 'name': 'Bong Joon...</td>\n",
       "      <td>12</td>\n",
       "    </tr>\n",
       "    <tr>\n",
       "      <th>19</th>\n",
       "      <td>{'birthdate': '1954-11-29', 'name': 'Joel Coen...</td>\n",
       "      <td>11</td>\n",
       "    </tr>\n",
       "  </tbody>\n",
       "</table>\n",
       "</div>"
      ],
      "text/plain": [
       "                                                    0   1\n",
       "0   {'birthdate': '1899-08-13', 'name': 'Alfred Hi...  60\n",
       "1   {'birthdate': '1942-11-17', 'name': 'Martin Sc...  48\n",
       "2   {'birthdate': '1946-12-18', 'name': 'Steven Sp...  41\n",
       "3   {'birthdate': '1930-05-31', 'name': 'Clint Eas...  39\n",
       "4   {'birthdate': '1940-09-11', 'name': 'Brian De ...  38\n",
       "5   {'birthdate': '1937-11-30', 'name': 'Ridley Sc...  35\n",
       "6   {'birthdate': '1946-09-22', 'name': 'John Woo'...  34\n",
       "7   {'birthdate': '1959-10-23', 'name': 'Sam Raimi...  31\n",
       "8   {'birthdate': '1969-10-09', 'name': 'Steve McQ...  31\n",
       "9   {'birthdate': None, 'name': 'John Ford', 'id':...  20\n",
       "10  {'birthdate': '1961-10-31', 'name': 'Peter Jac...  19\n",
       "11  {'birthdate': '1956-10-20', 'name': 'Danny Boy...  18\n",
       "12  {'birthdate': '1954-08-16', 'name': 'James Cam...  14\n",
       "13  {'birthdate': '1963-03-27', 'name': 'Quentin T...  14\n",
       "14  {'birthdate': None, 'name': 'Walter Edwards', ...  14\n",
       "15  {'birthdate': None, 'name': 'Robert N. Bradbur...  13\n",
       "16  {'birthdate': '1970-07-30', 'name': 'Christoph...  13\n",
       "17  {'birthdate': '1957-09-21', 'name': 'Ethan Coe...  12\n",
       "18  {'birthdate': '1969-09-14', 'name': 'Bong Joon...  12\n",
       "19  {'birthdate': '1954-11-29', 'name': 'Joel Coen...  11"
      ]
     },
     "execution_count": 5,
     "metadata": {},
     "output_type": "execute_result"
    }
   ],
   "source": [
    "# le résultat n'est pas fameux\n",
    "dfStatsMovieByDirector = pd.read_json('http://localhost:8000/stars/stats_movie_by_director')\n",
    "dfStatsMovieByDirector"
   ]
  },
  {
   "cell_type": "code",
   "execution_count": 45,
   "metadata": {},
   "outputs": [
    {
     "data": {
      "text/plain": [
       "<Response [200]>"
      ]
     },
     "execution_count": 45,
     "metadata": {},
     "output_type": "execute_result"
    }
   ],
   "source": [
    "response = requests.get('http://localhost:8000/stars/stats_movie_by_director')\n",
    "response"
   ]
  },
  {
   "cell_type": "code",
   "execution_count": 46,
   "metadata": {},
   "outputs": [
    {
     "name": "stdout",
     "output_type": "stream",
     "text": [
      "Response OK\n"
     ]
    }
   ],
   "source": [
    "if response.status_code == 200:\n",
    "    print('Response OK')\n",
    "else:\n",
    "    print('Error', response.status_code, response.json(), sep=', ')"
   ]
  },
  {
   "cell_type": "code",
   "execution_count": 47,
   "metadata": {},
   "outputs": [
    {
     "data": {
      "text/plain": [
       "[[{'birthdate': '1899-08-13', 'name': 'Alfred Hitchcock', 'id': 33}, 60],\n",
       " [{'birthdate': '1942-11-17', 'name': 'Martin Scorsese', 'id': 217}, 48],\n",
       " [{'birthdate': '1946-12-18', 'name': 'Steven Spielberg', 'id': 229}, 41],\n",
       " [{'birthdate': '1930-05-31', 'name': 'Clint Eastwood', 'id': 142}, 39],\n",
       " [{'birthdate': '1940-09-11', 'name': 'Brian De Palma', 'id': 361}, 38],\n",
       " [{'birthdate': '1937-11-30', 'name': 'Ridley Scott', 'id': 631}, 35],\n",
       " [{'birthdate': '1946-09-22', 'name': 'John Woo', 'id': 247}, 34],\n",
       " [{'birthdate': '1959-10-23', 'name': 'Sam Raimi', 'id': 600}, 31],\n",
       " [{'birthdate': '1969-10-09', 'name': 'Steve McQueen', 'id': 2588606}, 31],\n",
       " [{'birthdate': None, 'name': 'John Ford', 'id': 406}, 20],\n",
       " [{'birthdate': '1961-10-31', 'name': 'Peter Jackson', 'id': 1392}, 19],\n",
       " [{'birthdate': '1956-10-20', 'name': 'Danny Boyle', 'id': 965}, 18],\n",
       " [{'birthdate': None, 'name': 'Walter Edwards', 'id': 250445}, 14],\n",
       " [{'birthdate': '1954-08-16', 'name': 'James Cameron', 'id': 116}, 14],\n",
       " [{'birthdate': '1963-03-27', 'name': 'Quentin Tarantino', 'id': 233}, 14],\n",
       " [{'birthdate': None, 'name': 'Robert N. Bradbury', 'id': 102908}, 13],\n",
       " [{'birthdate': '1970-07-30', 'name': 'Christopher Nolan', 'id': 634240}, 13],\n",
       " [{'birthdate': '1957-09-21', 'name': 'Ethan Coen', 'id': 1053}, 12],\n",
       " [{'birthdate': '1969-09-14', 'name': 'Bong Joon Ho', 'id': 94435}, 12],\n",
       " [{'birthdate': '1954-11-29', 'name': 'Joel Coen', 'id': 1054}, 11]]"
      ]
     },
     "execution_count": 47,
     "metadata": {},
     "output_type": "execute_result"
    }
   ],
   "source": [
    "data_json = response.json()\n",
    "data_json"
   ]
  },
  {
   "cell_type": "code",
   "execution_count": 48,
   "metadata": {},
   "outputs": [
    {
     "data": {
      "text/plain": [
       "[(33, 'Alfred Hitchcock', '1899-08-13', 60),\n",
       " (217, 'Martin Scorsese', '1942-11-17', 48),\n",
       " (229, 'Steven Spielberg', '1946-12-18', 41),\n",
       " (142, 'Clint Eastwood', '1930-05-31', 39),\n",
       " (361, 'Brian De Palma', '1940-09-11', 38),\n",
       " (631, 'Ridley Scott', '1937-11-30', 35),\n",
       " (247, 'John Woo', '1946-09-22', 34),\n",
       " (600, 'Sam Raimi', '1959-10-23', 31),\n",
       " (2588606, 'Steve McQueen', '1969-10-09', 31),\n",
       " (406, 'John Ford', None, 20),\n",
       " (1392, 'Peter Jackson', '1961-10-31', 19),\n",
       " (965, 'Danny Boyle', '1956-10-20', 18),\n",
       " (250445, 'Walter Edwards', None, 14),\n",
       " (116, 'James Cameron', '1954-08-16', 14),\n",
       " (233, 'Quentin Tarantino', '1963-03-27', 14),\n",
       " (102908, 'Robert N. Bradbury', None, 13),\n",
       " (634240, 'Christopher Nolan', '1970-07-30', 13),\n",
       " (1053, 'Ethan Coen', '1957-09-21', 12),\n",
       " (94435, 'Bong Joon Ho', '1969-09-14', 12),\n",
       " (1054, 'Joel Coen', '1954-11-29', 11)]"
      ]
     },
     "execution_count": 48,
     "metadata": {},
     "output_type": "execute_result"
    }
   ],
   "source": [
    "# applatir en liste de tuples\n",
    "data_flatten = [ (director_dict['id'], director_dict['name'], director_dict['birthdate'], movie_count )  \n",
    "         for director_dict, movie_count in data_json ]\n",
    "data_flatten"
   ]
  },
  {
   "cell_type": "code",
   "execution_count": 49,
   "metadata": {},
   "outputs": [
    {
     "data": {
      "text/plain": [
       "[{'birthdate': '1899-08-13',\n",
       "  'name': 'Alfred Hitchcock',\n",
       "  'id': 33,\n",
       "  'movie_count': 60},\n",
       " {'birthdate': '1942-11-17',\n",
       "  'name': 'Martin Scorsese',\n",
       "  'id': 217,\n",
       "  'movie_count': 48},\n",
       " {'birthdate': '1946-12-18',\n",
       "  'name': 'Steven Spielberg',\n",
       "  'id': 229,\n",
       "  'movie_count': 41},\n",
       " {'birthdate': '1930-05-31',\n",
       "  'name': 'Clint Eastwood',\n",
       "  'id': 142,\n",
       "  'movie_count': 39},\n",
       " {'birthdate': '1940-09-11',\n",
       "  'name': 'Brian De Palma',\n",
       "  'id': 361,\n",
       "  'movie_count': 38},\n",
       " {'birthdate': '1937-11-30',\n",
       "  'name': 'Ridley Scott',\n",
       "  'id': 631,\n",
       "  'movie_count': 35},\n",
       " {'birthdate': '1946-09-22', 'name': 'John Woo', 'id': 247, 'movie_count': 34},\n",
       " {'birthdate': '1959-10-23',\n",
       "  'name': 'Sam Raimi',\n",
       "  'id': 600,\n",
       "  'movie_count': 31},\n",
       " {'birthdate': '1969-10-09',\n",
       "  'name': 'Steve McQueen',\n",
       "  'id': 2588606,\n",
       "  'movie_count': 31},\n",
       " {'birthdate': None, 'name': 'John Ford', 'id': 406, 'movie_count': 20},\n",
       " {'birthdate': '1961-10-31',\n",
       "  'name': 'Peter Jackson',\n",
       "  'id': 1392,\n",
       "  'movie_count': 19},\n",
       " {'birthdate': '1956-10-20',\n",
       "  'name': 'Danny Boyle',\n",
       "  'id': 965,\n",
       "  'movie_count': 18},\n",
       " {'birthdate': None,\n",
       "  'name': 'Walter Edwards',\n",
       "  'id': 250445,\n",
       "  'movie_count': 14},\n",
       " {'birthdate': '1954-08-16',\n",
       "  'name': 'James Cameron',\n",
       "  'id': 116,\n",
       "  'movie_count': 14},\n",
       " {'birthdate': '1963-03-27',\n",
       "  'name': 'Quentin Tarantino',\n",
       "  'id': 233,\n",
       "  'movie_count': 14},\n",
       " {'birthdate': None,\n",
       "  'name': 'Robert N. Bradbury',\n",
       "  'id': 102908,\n",
       "  'movie_count': 13},\n",
       " {'birthdate': '1970-07-30',\n",
       "  'name': 'Christopher Nolan',\n",
       "  'id': 634240,\n",
       "  'movie_count': 13},\n",
       " {'birthdate': '1957-09-21',\n",
       "  'name': 'Ethan Coen',\n",
       "  'id': 1053,\n",
       "  'movie_count': 12},\n",
       " {'birthdate': '1969-09-14',\n",
       "  'name': 'Bong Joon Ho',\n",
       "  'id': 94435,\n",
       "  'movie_count': 12},\n",
       " {'birthdate': '1954-11-29',\n",
       "  'name': 'Joel Coen',\n",
       "  'id': 1054,\n",
       "  'movie_count': 11}]"
      ]
     },
     "execution_count": 49,
     "metadata": {},
     "output_type": "execute_result"
    }
   ],
   "source": [
    "# applatir en list de dicts\n",
    "data_flatten = [ {**director_dict, 'movie_count': movie_count }  \n",
    "         for director_dict, movie_count in data_json ]\n",
    "data_flatten"
   ]
  },
  {
   "cell_type": "code",
   "execution_count": 50,
   "metadata": {},
   "outputs": [
    {
     "data": {
      "text/html": [
       "<div>\n",
       "<style scoped>\n",
       "    .dataframe tbody tr th:only-of-type {\n",
       "        vertical-align: middle;\n",
       "    }\n",
       "\n",
       "    .dataframe tbody tr th {\n",
       "        vertical-align: top;\n",
       "    }\n",
       "\n",
       "    .dataframe thead th {\n",
       "        text-align: right;\n",
       "    }\n",
       "</style>\n",
       "<table border=\"1\" class=\"dataframe\">\n",
       "  <thead>\n",
       "    <tr style=\"text-align: right;\">\n",
       "      <th></th>\n",
       "      <th>birthdate</th>\n",
       "      <th>name</th>\n",
       "      <th>movie_count</th>\n",
       "    </tr>\n",
       "    <tr>\n",
       "      <th>id</th>\n",
       "      <th></th>\n",
       "      <th></th>\n",
       "      <th></th>\n",
       "    </tr>\n",
       "  </thead>\n",
       "  <tbody>\n",
       "    <tr>\n",
       "      <th>33</th>\n",
       "      <td>1899-08-13</td>\n",
       "      <td>Alfred Hitchcock</td>\n",
       "      <td>60</td>\n",
       "    </tr>\n",
       "    <tr>\n",
       "      <th>217</th>\n",
       "      <td>1942-11-17</td>\n",
       "      <td>Martin Scorsese</td>\n",
       "      <td>48</td>\n",
       "    </tr>\n",
       "    <tr>\n",
       "      <th>229</th>\n",
       "      <td>1946-12-18</td>\n",
       "      <td>Steven Spielberg</td>\n",
       "      <td>41</td>\n",
       "    </tr>\n",
       "    <tr>\n",
       "      <th>142</th>\n",
       "      <td>1930-05-31</td>\n",
       "      <td>Clint Eastwood</td>\n",
       "      <td>39</td>\n",
       "    </tr>\n",
       "    <tr>\n",
       "      <th>361</th>\n",
       "      <td>1940-09-11</td>\n",
       "      <td>Brian De Palma</td>\n",
       "      <td>38</td>\n",
       "    </tr>\n",
       "    <tr>\n",
       "      <th>631</th>\n",
       "      <td>1937-11-30</td>\n",
       "      <td>Ridley Scott</td>\n",
       "      <td>35</td>\n",
       "    </tr>\n",
       "    <tr>\n",
       "      <th>247</th>\n",
       "      <td>1946-09-22</td>\n",
       "      <td>John Woo</td>\n",
       "      <td>34</td>\n",
       "    </tr>\n",
       "    <tr>\n",
       "      <th>600</th>\n",
       "      <td>1959-10-23</td>\n",
       "      <td>Sam Raimi</td>\n",
       "      <td>31</td>\n",
       "    </tr>\n",
       "    <tr>\n",
       "      <th>2588606</th>\n",
       "      <td>1969-10-09</td>\n",
       "      <td>Steve McQueen</td>\n",
       "      <td>31</td>\n",
       "    </tr>\n",
       "    <tr>\n",
       "      <th>406</th>\n",
       "      <td>None</td>\n",
       "      <td>John Ford</td>\n",
       "      <td>20</td>\n",
       "    </tr>\n",
       "    <tr>\n",
       "      <th>1392</th>\n",
       "      <td>1961-10-31</td>\n",
       "      <td>Peter Jackson</td>\n",
       "      <td>19</td>\n",
       "    </tr>\n",
       "    <tr>\n",
       "      <th>965</th>\n",
       "      <td>1956-10-20</td>\n",
       "      <td>Danny Boyle</td>\n",
       "      <td>18</td>\n",
       "    </tr>\n",
       "    <tr>\n",
       "      <th>250445</th>\n",
       "      <td>None</td>\n",
       "      <td>Walter Edwards</td>\n",
       "      <td>14</td>\n",
       "    </tr>\n",
       "    <tr>\n",
       "      <th>116</th>\n",
       "      <td>1954-08-16</td>\n",
       "      <td>James Cameron</td>\n",
       "      <td>14</td>\n",
       "    </tr>\n",
       "    <tr>\n",
       "      <th>233</th>\n",
       "      <td>1963-03-27</td>\n",
       "      <td>Quentin Tarantino</td>\n",
       "      <td>14</td>\n",
       "    </tr>\n",
       "    <tr>\n",
       "      <th>102908</th>\n",
       "      <td>None</td>\n",
       "      <td>Robert N. Bradbury</td>\n",
       "      <td>13</td>\n",
       "    </tr>\n",
       "    <tr>\n",
       "      <th>634240</th>\n",
       "      <td>1970-07-30</td>\n",
       "      <td>Christopher Nolan</td>\n",
       "      <td>13</td>\n",
       "    </tr>\n",
       "    <tr>\n",
       "      <th>1053</th>\n",
       "      <td>1957-09-21</td>\n",
       "      <td>Ethan Coen</td>\n",
       "      <td>12</td>\n",
       "    </tr>\n",
       "    <tr>\n",
       "      <th>94435</th>\n",
       "      <td>1969-09-14</td>\n",
       "      <td>Bong Joon Ho</td>\n",
       "      <td>12</td>\n",
       "    </tr>\n",
       "    <tr>\n",
       "      <th>1054</th>\n",
       "      <td>1954-11-29</td>\n",
       "      <td>Joel Coen</td>\n",
       "      <td>11</td>\n",
       "    </tr>\n",
       "  </tbody>\n",
       "</table>\n",
       "</div>"
      ],
      "text/plain": [
       "          birthdate                name  movie_count\n",
       "id                                                  \n",
       "33       1899-08-13    Alfred Hitchcock           60\n",
       "217      1942-11-17     Martin Scorsese           48\n",
       "229      1946-12-18    Steven Spielberg           41\n",
       "142      1930-05-31      Clint Eastwood           39\n",
       "361      1940-09-11      Brian De Palma           38\n",
       "631      1937-11-30        Ridley Scott           35\n",
       "247      1946-09-22            John Woo           34\n",
       "600      1959-10-23           Sam Raimi           31\n",
       "2588606  1969-10-09       Steve McQueen           31\n",
       "406            None           John Ford           20\n",
       "1392     1961-10-31       Peter Jackson           19\n",
       "965      1956-10-20         Danny Boyle           18\n",
       "250445         None      Walter Edwards           14\n",
       "116      1954-08-16       James Cameron           14\n",
       "233      1963-03-27   Quentin Tarantino           14\n",
       "102908         None  Robert N. Bradbury           13\n",
       "634240   1970-07-30   Christopher Nolan           13\n",
       "1053     1957-09-21          Ethan Coen           12\n",
       "94435    1969-09-14        Bong Joon Ho           12\n",
       "1054     1954-11-29           Joel Coen           11"
      ]
     },
     "execution_count": 50,
     "metadata": {},
     "output_type": "execute_result"
    }
   ],
   "source": [
    "dfStatsMovieByDirector = pd.DataFrame(data_flatten)\n",
    "dfStatsMovieByDirector.set_index('id', inplace=True)\n",
    "dfStatsMovieByDirector"
   ]
  },
  {
   "cell_type": "code",
   "execution_count": 51,
   "metadata": {},
   "outputs": [
    {
     "data": {
      "text/plain": [
       "'1899-08-13'"
      ]
     },
     "execution_count": 51,
     "metadata": {},
     "output_type": "execute_result"
    }
   ],
   "source": [
    "dfStatsMovieByDirector.loc[33].birthdate"
   ]
  },
  {
   "cell_type": "code",
   "execution_count": 52,
   "metadata": {},
   "outputs": [
    {
     "data": {
      "text/plain": [
       "datetime.date(1899, 8, 13)"
      ]
     },
     "execution_count": 52,
     "metadata": {},
     "output_type": "execute_result"
    }
   ],
   "source": [
    "datetime.strptime('1899-08-13', '%Y-%m-%d').date()"
   ]
  },
  {
   "cell_type": "code",
   "execution_count": 53,
   "metadata": {},
   "outputs": [
    {
     "ename": "AttributeError",
     "evalue": "type object 'datetime.date' has no attribute 'fromisoformat'",
     "output_type": "error",
     "traceback": [
      "\u001b[0;31m---------------------------------------------------------------------------\u001b[0m",
      "\u001b[0;31mAttributeError\u001b[0m                            Traceback (most recent call last)",
      "\u001b[0;32m<ipython-input-53-bface646383a>\u001b[0m in \u001b[0;36m<module>\u001b[0;34m\u001b[0m\n\u001b[0;32m----> 1\u001b[0;31m \u001b[0mdate\u001b[0m\u001b[0;34m.\u001b[0m\u001b[0mfromisoformat\u001b[0m\u001b[0;34m(\u001b[0m\u001b[0;34m'1899-08-13'\u001b[0m\u001b[0;34m)\u001b[0m\u001b[0;34m\u001b[0m\u001b[0;34m\u001b[0m\u001b[0m\n\u001b[0m",
      "\u001b[0;31mAttributeError\u001b[0m: type object 'datetime.date' has no attribute 'fromisoformat'"
     ]
    }
   ],
   "source": [
    "date.fromisoformat('1899-08-13')"
   ]
  },
  {
   "cell_type": "code",
   "execution_count": 54,
   "metadata": {},
   "outputs": [
    {
     "data": {
      "text/html": [
       "<div>\n",
       "<style scoped>\n",
       "    .dataframe tbody tr th:only-of-type {\n",
       "        vertical-align: middle;\n",
       "    }\n",
       "\n",
       "    .dataframe tbody tr th {\n",
       "        vertical-align: top;\n",
       "    }\n",
       "\n",
       "    .dataframe thead th {\n",
       "        text-align: right;\n",
       "    }\n",
       "</style>\n",
       "<table border=\"1\" class=\"dataframe\">\n",
       "  <thead>\n",
       "    <tr style=\"text-align: right;\">\n",
       "      <th></th>\n",
       "      <th>birthdate</th>\n",
       "      <th>name</th>\n",
       "      <th>movie_count</th>\n",
       "    </tr>\n",
       "    <tr>\n",
       "      <th>id</th>\n",
       "      <th></th>\n",
       "      <th></th>\n",
       "      <th></th>\n",
       "    </tr>\n",
       "  </thead>\n",
       "  <tbody>\n",
       "    <tr>\n",
       "      <th>406</th>\n",
       "      <td>None</td>\n",
       "      <td>John Ford</td>\n",
       "      <td>20</td>\n",
       "    </tr>\n",
       "    <tr>\n",
       "      <th>250445</th>\n",
       "      <td>None</td>\n",
       "      <td>Walter Edwards</td>\n",
       "      <td>14</td>\n",
       "    </tr>\n",
       "    <tr>\n",
       "      <th>102908</th>\n",
       "      <td>None</td>\n",
       "      <td>Robert N. Bradbury</td>\n",
       "      <td>13</td>\n",
       "    </tr>\n",
       "  </tbody>\n",
       "</table>\n",
       "</div>"
      ],
      "text/plain": [
       "       birthdate                name  movie_count\n",
       "id                                               \n",
       "406         None           John Ford           20\n",
       "250445      None      Walter Edwards           14\n",
       "102908      None  Robert N. Bradbury           13"
      ]
     },
     "execution_count": 54,
     "metadata": {},
     "output_type": "execute_result"
    }
   ],
   "source": [
    "dfStatsMovieByDirector[dfStatsMovieByDirector.birthdate.isnull()]"
   ]
  },
  {
   "cell_type": "code",
   "execution_count": 55,
   "metadata": {},
   "outputs": [
    {
     "ename": "AttributeError",
     "evalue": "type object 'datetime.date' has no attribute 'fromisoformat'",
     "output_type": "error",
     "traceback": [
      "\u001b[0;31m---------------------------------------------------------------------------\u001b[0m",
      "\u001b[0;31mAttributeError\u001b[0m                            Traceback (most recent call last)",
      "\u001b[0;32m<ipython-input-55-c54c1f04c839>\u001b[0m in \u001b[0;36m<module>\u001b[0;34m\u001b[0m\n\u001b[0;32m----> 1\u001b[0;31m \u001b[0mdfStatsMovieByDirector\u001b[0m\u001b[0;34m[\u001b[0m\u001b[0;34m~\u001b[0m\u001b[0mdfStatsMovieByDirector\u001b[0m\u001b[0;34m.\u001b[0m\u001b[0mbirthdate\u001b[0m\u001b[0;34m.\u001b[0m\u001b[0misnull\u001b[0m\u001b[0;34m(\u001b[0m\u001b[0;34m)\u001b[0m\u001b[0;34m]\u001b[0m\u001b[0;34m.\u001b[0m\u001b[0mbirthdate\u001b[0m\u001b[0;34m.\u001b[0m\u001b[0mapply\u001b[0m\u001b[0;34m(\u001b[0m\u001b[0mdate\u001b[0m\u001b[0;34m.\u001b[0m\u001b[0mfromisoformat\u001b[0m\u001b[0;34m)\u001b[0m\u001b[0;34m\u001b[0m\u001b[0;34m\u001b[0m\u001b[0m\n\u001b[0m",
      "\u001b[0;31mAttributeError\u001b[0m: type object 'datetime.date' has no attribute 'fromisoformat'"
     ]
    }
   ],
   "source": [
    "dfStatsMovieByDirector[~dfStatsMovieByDirector.birthdate.isnull()].birthdate.apply(date.fromisoformat)"
   ]
  },
  {
   "cell_type": "code",
   "execution_count": 56,
   "metadata": {},
   "outputs": [
    {
     "ename": "AttributeError",
     "evalue": "type object 'datetime.date' has no attribute 'fromisoformat'",
     "output_type": "error",
     "traceback": [
      "\u001b[0;31m---------------------------------------------------------------------------\u001b[0m",
      "\u001b[0;31mAttributeError\u001b[0m                            Traceback (most recent call last)",
      "\u001b[0;32m<ipython-input-56-b2effa5ca537>\u001b[0m in \u001b[0;36m<module>\u001b[0;34m\u001b[0m\n\u001b[1;32m      3\u001b[0m \u001b[0;34m\u001b[0m\u001b[0m\n\u001b[1;32m      4\u001b[0m dfStatsMovieByDirector.birthdate = dfStatsMovieByDirector.birthdate.apply(\n\u001b[0;32m----> 5\u001b[0;31m     lambda bd: date.fromisoformat(bd) if bd is not None else None)\n\u001b[0m\u001b[1;32m      6\u001b[0m \u001b[0mdfStatsMovieByDirector\u001b[0m\u001b[0;34m\u001b[0m\u001b[0;34m\u001b[0m\u001b[0m\n",
      "\u001b[0;32m~/virtualenv1/lib/python3.6/site-packages/pandas/core/series.py\u001b[0m in \u001b[0;36mapply\u001b[0;34m(self, func, convert_dtype, args, **kwds)\u001b[0m\n\u001b[1;32m   4198\u001b[0m             \u001b[0;32melse\u001b[0m\u001b[0;34m:\u001b[0m\u001b[0;34m\u001b[0m\u001b[0;34m\u001b[0m\u001b[0m\n\u001b[1;32m   4199\u001b[0m                 \u001b[0mvalues\u001b[0m \u001b[0;34m=\u001b[0m \u001b[0mself\u001b[0m\u001b[0;34m.\u001b[0m\u001b[0mastype\u001b[0m\u001b[0;34m(\u001b[0m\u001b[0mobject\u001b[0m\u001b[0;34m)\u001b[0m\u001b[0;34m.\u001b[0m\u001b[0m_values\u001b[0m\u001b[0;34m\u001b[0m\u001b[0;34m\u001b[0m\u001b[0m\n\u001b[0;32m-> 4200\u001b[0;31m                 \u001b[0mmapped\u001b[0m \u001b[0;34m=\u001b[0m \u001b[0mlib\u001b[0m\u001b[0;34m.\u001b[0m\u001b[0mmap_infer\u001b[0m\u001b[0;34m(\u001b[0m\u001b[0mvalues\u001b[0m\u001b[0;34m,\u001b[0m \u001b[0mf\u001b[0m\u001b[0;34m,\u001b[0m \u001b[0mconvert\u001b[0m\u001b[0;34m=\u001b[0m\u001b[0mconvert_dtype\u001b[0m\u001b[0;34m)\u001b[0m\u001b[0;34m\u001b[0m\u001b[0;34m\u001b[0m\u001b[0m\n\u001b[0m\u001b[1;32m   4201\u001b[0m \u001b[0;34m\u001b[0m\u001b[0m\n\u001b[1;32m   4202\u001b[0m         \u001b[0;32mif\u001b[0m \u001b[0mlen\u001b[0m\u001b[0;34m(\u001b[0m\u001b[0mmapped\u001b[0m\u001b[0;34m)\u001b[0m \u001b[0;32mand\u001b[0m \u001b[0misinstance\u001b[0m\u001b[0;34m(\u001b[0m\u001b[0mmapped\u001b[0m\u001b[0;34m[\u001b[0m\u001b[0;36m0\u001b[0m\u001b[0;34m]\u001b[0m\u001b[0;34m,\u001b[0m \u001b[0mSeries\u001b[0m\u001b[0;34m)\u001b[0m\u001b[0;34m:\u001b[0m\u001b[0;34m\u001b[0m\u001b[0;34m\u001b[0m\u001b[0m\n",
      "\u001b[0;32mpandas/_libs/lib.pyx\u001b[0m in \u001b[0;36mpandas._libs.lib.map_infer\u001b[0;34m()\u001b[0m\n",
      "\u001b[0;32m<ipython-input-56-b2effa5ca537>\u001b[0m in \u001b[0;36m<lambda>\u001b[0;34m(bd)\u001b[0m\n\u001b[1;32m      3\u001b[0m \u001b[0;34m\u001b[0m\u001b[0m\n\u001b[1;32m      4\u001b[0m dfStatsMovieByDirector.birthdate = dfStatsMovieByDirector.birthdate.apply(\n\u001b[0;32m----> 5\u001b[0;31m     lambda bd: date.fromisoformat(bd) if bd is not None else None)\n\u001b[0m\u001b[1;32m      6\u001b[0m \u001b[0mdfStatsMovieByDirector\u001b[0m\u001b[0;34m\u001b[0m\u001b[0;34m\u001b[0m\u001b[0m\n",
      "\u001b[0;31mAttributeError\u001b[0m: type object 'datetime.date' has no attribute 'fromisoformat'"
     ]
    }
   ],
   "source": [
    "# def fromisoformat_or_none(dt):\n",
    "#    return date.fromisoformat(bd) if bd is not None else None\n",
    "\n",
    "dfStatsMovieByDirector.birthdate = dfStatsMovieByDirector.birthdate.apply(\n",
    "    lambda bd: date.fromisoformat(bd) if bd is not None else None)\n",
    "dfStatsMovieByDirector"
   ]
  },
  {
   "cell_type": "code",
   "execution_count": 57,
   "metadata": {},
   "outputs": [
    {
     "data": {
      "text/plain": [
       "'1899-08-13'"
      ]
     },
     "execution_count": 57,
     "metadata": {},
     "output_type": "execute_result"
    }
   ],
   "source": [
    "dfStatsMovieByDirector.loc[33].birthdate"
   ]
  },
  {
   "cell_type": "code",
   "execution_count": 58,
   "metadata": {},
   "outputs": [
    {
     "data": {
      "text/html": [
       "<div>\n",
       "<style scoped>\n",
       "    .dataframe tbody tr th:only-of-type {\n",
       "        vertical-align: middle;\n",
       "    }\n",
       "\n",
       "    .dataframe tbody tr th {\n",
       "        vertical-align: top;\n",
       "    }\n",
       "\n",
       "    .dataframe thead th {\n",
       "        text-align: right;\n",
       "    }\n",
       "</style>\n",
       "<table border=\"1\" class=\"dataframe\">\n",
       "  <thead>\n",
       "    <tr style=\"text-align: right;\">\n",
       "      <th></th>\n",
       "      <th>name</th>\n",
       "      <th>birthdate</th>\n",
       "    </tr>\n",
       "    <tr>\n",
       "      <th>id</th>\n",
       "      <th></th>\n",
       "      <th></th>\n",
       "    </tr>\n",
       "  </thead>\n",
       "  <tbody>\n",
       "    <tr>\n",
       "      <th>1</th>\n",
       "      <td>Fred Astaire</td>\n",
       "      <td>1899-01-01</td>\n",
       "    </tr>\n",
       "    <tr>\n",
       "      <th>2</th>\n",
       "      <td>Lauren Bacall</td>\n",
       "      <td>1924-01-01</td>\n",
       "    </tr>\n",
       "    <tr>\n",
       "      <th>3</th>\n",
       "      <td>Brigitte Bardot</td>\n",
       "      <td>1934-01-01</td>\n",
       "    </tr>\n",
       "    <tr>\n",
       "      <th>4</th>\n",
       "      <td>John Belushi</td>\n",
       "      <td>NaT</td>\n",
       "    </tr>\n",
       "    <tr>\n",
       "      <th>6</th>\n",
       "      <td>Ingrid Bergman</td>\n",
       "      <td>1915-01-01</td>\n",
       "    </tr>\n",
       "    <tr>\n",
       "      <th>...</th>\n",
       "      <td>...</td>\n",
       "      <td>...</td>\n",
       "    </tr>\n",
       "    <tr>\n",
       "      <th>1480</th>\n",
       "      <td>Shelley Long</td>\n",
       "      <td>NaT</td>\n",
       "    </tr>\n",
       "    <tr>\n",
       "      <th>1484</th>\n",
       "      <td>Jon Lovitz</td>\n",
       "      <td>1957-01-01</td>\n",
       "    </tr>\n",
       "    <tr>\n",
       "      <th>1485</th>\n",
       "      <td>Myrna Loy</td>\n",
       "      <td>1905-01-01</td>\n",
       "    </tr>\n",
       "    <tr>\n",
       "      <th>1486</th>\n",
       "      <td>Sidney Lumet</td>\n",
       "      <td>NaT</td>\n",
       "    </tr>\n",
       "    <tr>\n",
       "      <th>1489</th>\n",
       "      <td>Paul Lynde</td>\n",
       "      <td>1926-01-01</td>\n",
       "    </tr>\n",
       "  </tbody>\n",
       "</table>\n",
       "<p>1000 rows × 2 columns</p>\n",
       "</div>"
      ],
      "text/plain": [
       "                 name  birthdate\n",
       "id                              \n",
       "1        Fred Astaire 1899-01-01\n",
       "2       Lauren Bacall 1924-01-01\n",
       "3     Brigitte Bardot 1934-01-01\n",
       "4        John Belushi        NaT\n",
       "6      Ingrid Bergman 1915-01-01\n",
       "...               ...        ...\n",
       "1480     Shelley Long        NaT\n",
       "1484       Jon Lovitz 1957-01-01\n",
       "1485        Myrna Loy 1905-01-01\n",
       "1486     Sidney Lumet        NaT\n",
       "1489       Paul Lynde 1926-01-01\n",
       "\n",
       "[1000 rows x 2 columns]"
      ]
     },
     "execution_count": 58,
     "metadata": {},
     "output_type": "execute_result"
    }
   ],
   "source": [
    "# other idea: instead of apply read column birthdate as datetime64 (NaT)\n",
    "limit = 1000\n",
    "dfStars = pd.read_json(f'http://localhost:8000/stars?limit={limit}', convert_dates=['birthdate'])\n",
    "dfStars.set_index('id', inplace=True)\n",
    "dfStars"
   ]
  },
  {
   "cell_type": "markdown",
   "metadata": {},
   "source": [
    "## Graphiques avec matplotlib"
   ]
  },
  {
   "cell_type": "code",
   "execution_count": 59,
   "metadata": {},
   "outputs": [
    {
     "data": {
      "text/plain": [
       "<AxesSubplot:xlabel='name'>"
      ]
     },
     "execution_count": 59,
     "metadata": {},
     "output_type": "execute_result"
    },
    {
     "data": {
      "image/png": "[encoded data removed]",
      "text/plain": [
       "<Figure size 432x288 with 1 Axes>"
      ]
     },
     "metadata": {
      "needs_background": "light"
     },
     "output_type": "display_data"
    }
   ],
   "source": [
    "statsToPlot = dfStatsMovieByDirector[dfStatsMovieByDirector.movie_count > 30][['name','movie_count']] \\\n",
    "    .set_index('name')\n",
    "statsToPlot.plot(kind='bar')"
   ]
  },
  {
   "cell_type": "code",
   "execution_count": 60,
   "metadata": {},
   "outputs": [
    {
     "data": {
      "text/plain": [
       "[<matplotlib.lines.Line2D at 0x7fc94c871518>]"
      ]
     },
     "execution_count": 60,
     "metadata": {},
     "output_type": "execute_result"
    },
    {
     "data": {
      "image/png": "[encoded data removed]",
      "text/plain": [
       "<Figure size 432x288 with 1 Axes>"
      ]
     },
     "metadata": {
      "needs_background": "light"
     },
     "output_type": "display_data"
    }
   ],
   "source": [
    "# 1 methode par type de graphe : plot, bar, piechart, ...\n",
    "movie_count_ndarray = dfStatsMovieByDirector.movie_count.values\n",
    "plt.plot(movie_count_ndarray)\n"
   ]
  },
  {
   "cell_type": "code",
   "execution_count": 61,
   "metadata": {},
   "outputs": [
    {
     "data": {
      "text/plain": [
       "[<matplotlib.lines.Line2D at 0x7fc94c7fb320>]"
      ]
     },
     "execution_count": 61,
     "metadata": {},
     "output_type": "execute_result"
    },
    {
     "data": {
      "image/png": "[encoded data removed]",
      "text/plain": [
       "<Figure size 432x288 with 1 Axes>"
      ]
     },
     "metadata": {
      "needs_background": "light"
     },
     "output_type": "display_data"
    }
   ],
   "source": [
    "# fig : l'ensemble du dessin\n",
    "# ax : 1 tracé\n",
    "fig, ax = plt.subplots()\n",
    "ax.plot(movie_count_ndarray)"
   ]
  },
  {
   "cell_type": "code",
   "execution_count": 62,
   "metadata": {},
   "outputs": [
    {
     "data": {
      "text/plain": [
       "Text(0.5, 1.0, 'diag bar')"
      ]
     },
     "execution_count": 62,
     "metadata": {},
     "output_type": "execute_result"
    },
    {
     "data": {
      "image/png": "[encoded data removed]",
      "text/plain": [
       "<Figure size 720x360 with 2 Axes>"
      ]
     },
     "metadata": {
      "needs_background": "light"
     },
     "output_type": "display_data"
    }
   ],
   "source": [
    "# fig : l'ensemble du dessin\n",
    "# ax1, ax2 : 2 tracés\n",
    "fig, (ax1, ax2) = plt.subplots(1,2, figsize=(10,5))\n",
    "# NB: fig, ((ax1, ax2),(ax3,ax4)) = plt.subplots(2,2)\n",
    "\n",
    "# tracé 1 sur ax1\n",
    "ax1.plot(movie_count_ndarray)\n",
    "ax1.set_xlabel('x')\n",
    "ax1.set_ylabel('movie count')\n",
    "ax1.set_title('diag plot')\n",
    "# tracé 2 sur ax2\n",
    "statsToPlot.plot(kind='bar', ax=ax2)\n",
    "ax2.set_title('diag bar')\n"
   ]
  },
  {
   "cell_type": "code",
   "execution_count": 63,
   "metadata": {},
   "outputs": [
    {
     "data": {
      "image/png": "[encoded data removed]",
      "text/plain": [
       "<Figure size 432x288 with 1 Axes>"
      ]
     },
     "metadata": {
      "needs_background": "light"
     },
     "output_type": "display_data"
    }
   ],
   "source": [
    "x = np.arange(1000)\n",
    "y = x**2+1\n",
    "fig, ax = plt.subplots()\n",
    "ax.plot(x,y)\n",
    "ax.set_xlim(0, 800)\n",
    "# graduation majeure sur l'axe des x (x axis)\n",
    "ax.xaxis.set_major_locator(ticker.MultipleLocator(200))\n",
    "# graduation mineure sur l'axe des x (x axis)\n",
    "ax.xaxis.set_minor_locator(ticker.MultipleLocator(50))"
   ]
  },
  {
   "cell_type": "code",
   "execution_count": 64,
   "metadata": {},
   "outputs": [
    {
     "data": {
      "image/png": "[encoded data removed]",
      "text/plain": [
       "<Figure size 432x288 with 1 Axes>"
      ]
     },
     "metadata": {
      "needs_background": "light"
     },
     "output_type": "display_data"
    }
   ],
   "source": [
    "x = np.linspace(0,2*np.pi, 1000)\n",
    "y = np.sin(x)\n",
    "fig, ax = plt.subplots()\n",
    "ax.plot(x,y)\n",
    "# graduation majeure sur l'axe des y (y axis)\n",
    "ax.yaxis.set_major_locator(ticker.MultipleLocator(1/3))\n",
    "# formattage des labels sur la graduation\n",
    "# https://matplotlib.org/3.1.1/gallery/ticks_and_spines/tick-formatters.html\n",
    "ax.yaxis.set_major_formatter(ticker.FuncFormatter(lambda y,_: f'{y:.2f} s'))\n",
    "# graduation mineure sur l'axe des y (y axis)\n",
    "#ax.xaxis.set_minor_locator(ticker.MultipleLocator(50))"
   ]
  },
  {
   "cell_type": "code",
   "execution_count": 65,
   "metadata": {},
   "outputs": [
    {
     "data": {
      "text/plain": [
       "<matplotlib.dates.DateFormatter at 0x7fc94c295cf8>"
      ]
     },
     "execution_count": 65,
     "metadata": {},
     "output_type": "execute_result"
    }
   ],
   "source": [
    "# formattage et graduation de datetime, ...\n",
    "mdates.YearLocator()\n",
    "mdates.MonthLocator()\n",
    "mdates.DayLocator()\n",
    "mdates.DateFormatter('%Y-%m')"
   ]
  },
  {
   "cell_type": "code",
   "execution_count": 66,
   "metadata": {},
   "outputs": [],
   "source": [
    "#A RENDRE"
   ]
  },
  {
   "cell_type": "code",
   "execution_count": 67,
   "metadata": {},
   "outputs": [],
   "source": [
    "#DataFrames: count_by_birthday "
   ]
  },
  {
   "cell_type": "code",
   "execution_count": 18,
   "metadata": {},
   "outputs": [
    {
     "data": {
      "text/html": [
       "<div>\n",
       "<style scoped>\n",
       "    .dataframe tbody tr th:only-of-type {\n",
       "        vertical-align: middle;\n",
       "    }\n",
       "\n",
       "    .dataframe tbody tr th {\n",
       "        vertical-align: top;\n",
       "    }\n",
       "\n",
       "    .dataframe thead th {\n",
       "        text-align: right;\n",
       "    }\n",
       "</style>\n",
       "<table border=\"1\" class=\"dataframe\">\n",
       "  <thead>\n",
       "    <tr style=\"text-align: right;\">\n",
       "      <th></th>\n",
       "      <th>name</th>\n",
       "      <th>birthdate</th>\n",
       "      <th>id</th>\n",
       "    </tr>\n",
       "  </thead>\n",
       "  <tbody>\n",
       "    <tr>\n",
       "      <th>0</th>\n",
       "      <td>Afemo Omilami</td>\n",
       "      <td>1950-01-01</td>\n",
       "      <td>648416</td>\n",
       "    </tr>\n",
       "    <tr>\n",
       "      <th>1</th>\n",
       "      <td>Al Bernstein</td>\n",
       "      <td>1950-01-01</td>\n",
       "      <td>76988</td>\n",
       "    </tr>\n",
       "    <tr>\n",
       "      <th>2</th>\n",
       "      <td>Alan Toy</td>\n",
       "      <td>1950-01-01</td>\n",
       "      <td>870257</td>\n",
       "    </tr>\n",
       "    <tr>\n",
       "      <th>3</th>\n",
       "      <td>Alex Norton</td>\n",
       "      <td>1950-01-01</td>\n",
       "      <td>636156</td>\n",
       "    </tr>\n",
       "    <tr>\n",
       "      <th>4</th>\n",
       "      <td>Andy Cunningham</td>\n",
       "      <td>1950-01-01</td>\n",
       "      <td>192233</td>\n",
       "    </tr>\n",
       "    <tr>\n",
       "      <th>...</th>\n",
       "      <td>...</td>\n",
       "      <td>...</td>\n",
       "      <td>...</td>\n",
       "    </tr>\n",
       "    <tr>\n",
       "      <th>118</th>\n",
       "      <td>Tony McHale</td>\n",
       "      <td>1950-01-01</td>\n",
       "      <td>570370</td>\n",
       "    </tr>\n",
       "    <tr>\n",
       "      <th>119</th>\n",
       "      <td>Tony Papenfuss</td>\n",
       "      <td>1950-01-01</td>\n",
       "      <td>660425</td>\n",
       "    </tr>\n",
       "    <tr>\n",
       "      <th>120</th>\n",
       "      <td>Vaughn Armstrong</td>\n",
       "      <td>1950-01-01</td>\n",
       "      <td>35932</td>\n",
       "    </tr>\n",
       "    <tr>\n",
       "      <th>121</th>\n",
       "      <td>Vondie Curtis-Hall</td>\n",
       "      <td>1950-01-01</td>\n",
       "      <td>193554</td>\n",
       "    </tr>\n",
       "    <tr>\n",
       "      <th>122</th>\n",
       "      <td>William H. Macy</td>\n",
       "      <td>1950-01-01</td>\n",
       "      <td>513</td>\n",
       "    </tr>\n",
       "  </tbody>\n",
       "</table>\n",
       "<p>123 rows × 3 columns</p>\n",
       "</div>"
      ],
      "text/plain": [
       "                   name   birthdate      id\n",
       "0         Afemo Omilami  1950-01-01  648416\n",
       "1          Al Bernstein  1950-01-01   76988\n",
       "2              Alan Toy  1950-01-01  870257\n",
       "3           Alex Norton  1950-01-01  636156\n",
       "4       Andy Cunningham  1950-01-01  192233\n",
       "..                  ...         ...     ...\n",
       "118         Tony McHale  1950-01-01  570370\n",
       "119      Tony Papenfuss  1950-01-01  660425\n",
       "120    Vaughn Armstrong  1950-01-01   35932\n",
       "121  Vondie Curtis-Hall  1950-01-01  193554\n",
       "122     William H. Macy  1950-01-01     513\n",
       "\n",
       "[123 rows x 3 columns]"
      ]
     },
     "execution_count": 18,
     "metadata": {},
     "output_type": "execute_result"
    }
   ],
   "source": [
    "dfStarsByYear = pd.read_json(f'http://localhost:8000/stars/by_birthyear/{1950}')\n",
    "dfStarsByYear"
   ]
  },
  {
   "cell_type": "code",
   "execution_count": 19,
   "metadata": {},
   "outputs": [],
   "source": [
    "#DataFrames: movies by_title_part"
   ]
  },
  {
   "cell_type": "code",
   "execution_count": 20,
   "metadata": {},
   "outputs": [
    {
     "data": {
      "text/html": [
       "<div>\n",
       "<style scoped>\n",
       "    .dataframe tbody tr th:only-of-type {\n",
       "        vertical-align: middle;\n",
       "    }\n",
       "\n",
       "    .dataframe tbody tr th {\n",
       "        vertical-align: top;\n",
       "    }\n",
       "\n",
       "    .dataframe thead th {\n",
       "        text-align: right;\n",
       "    }\n",
       "</style>\n",
       "<table border=\"1\" class=\"dataframe\">\n",
       "  <thead>\n",
       "    <tr style=\"text-align: right;\">\n",
       "      <th></th>\n",
       "      <th>title</th>\n",
       "      <th>year</th>\n",
       "      <th>duration</th>\n",
       "      <th>id</th>\n",
       "    </tr>\n",
       "  </thead>\n",
       "  <tbody>\n",
       "    <tr>\n",
       "      <th>0</th>\n",
       "      <td>Chanel No. 5: La Star</td>\n",
       "      <td>1990</td>\n",
       "      <td>1.0</td>\n",
       "      <td>8317298</td>\n",
       "    </tr>\n",
       "    <tr>\n",
       "      <th>1</th>\n",
       "      <td>Seeing Stars</td>\n",
       "      <td>1927</td>\n",
       "      <td>NaN</td>\n",
       "      <td>778043</td>\n",
       "    </tr>\n",
       "    <tr>\n",
       "      <th>2</th>\n",
       "      <td>Star in the Dust</td>\n",
       "      <td>1956</td>\n",
       "      <td>80.0</td>\n",
       "      <td>49793</td>\n",
       "    </tr>\n",
       "    <tr>\n",
       "      <th>3</th>\n",
       "      <td>Star Wars: Episode IV - A New Hope</td>\n",
       "      <td>1977</td>\n",
       "      <td>121.0</td>\n",
       "      <td>76759</td>\n",
       "    </tr>\n",
       "    <tr>\n",
       "      <th>4</th>\n",
       "      <td>Star Wars: Episode IV: A New Hope - Deleted Sc...</td>\n",
       "      <td>2011</td>\n",
       "      <td>8.0</td>\n",
       "      <td>8933914</td>\n",
       "    </tr>\n",
       "    <tr>\n",
       "      <th>5</th>\n",
       "      <td>Star Wars: Episode IX - The Rise of Skywalker</td>\n",
       "      <td>2019</td>\n",
       "      <td>142.0</td>\n",
       "      <td>2527338</td>\n",
       "    </tr>\n",
       "    <tr>\n",
       "      <th>6</th>\n",
       "      <td>Star Wars: Episode V - The Empire Strikes Back</td>\n",
       "      <td>1980</td>\n",
       "      <td>124.0</td>\n",
       "      <td>80684</td>\n",
       "    </tr>\n",
       "    <tr>\n",
       "      <th>7</th>\n",
       "      <td>Star Wars: Episode V - The Empire Strikes Back...</td>\n",
       "      <td>1980</td>\n",
       "      <td>12.0</td>\n",
       "      <td>8924990</td>\n",
       "    </tr>\n",
       "    <tr>\n",
       "      <th>8</th>\n",
       "      <td>Star Wars: Episode VI - Return of the Jedi</td>\n",
       "      <td>1983</td>\n",
       "      <td>131.0</td>\n",
       "      <td>86190</td>\n",
       "    </tr>\n",
       "    <tr>\n",
       "      <th>9</th>\n",
       "      <td>Star Wars: Episode VI - Return of the Jedi: De...</td>\n",
       "      <td>1983</td>\n",
       "      <td>9.0</td>\n",
       "      <td>8925010</td>\n",
       "    </tr>\n",
       "    <tr>\n",
       "      <th>10</th>\n",
       "      <td>Star Wars: Episode VII - The Force Awakens</td>\n",
       "      <td>2015</td>\n",
       "      <td>138.0</td>\n",
       "      <td>2488496</td>\n",
       "    </tr>\n",
       "    <tr>\n",
       "      <th>11</th>\n",
       "      <td>Starry is the Night</td>\n",
       "      <td>1988</td>\n",
       "      <td>94.0</td>\n",
       "      <td>95405</td>\n",
       "    </tr>\n",
       "    <tr>\n",
       "      <th>12</th>\n",
       "      <td>The Star Packer</td>\n",
       "      <td>1934</td>\n",
       "      <td>53.0</td>\n",
       "      <td>25830</td>\n",
       "    </tr>\n",
       "  </tbody>\n",
       "</table>\n",
       "</div>"
      ],
      "text/plain": [
       "                                                title  year  duration       id\n",
       "0                               Chanel No. 5: La Star  1990       1.0  8317298\n",
       "1                                        Seeing Stars  1927       NaN   778043\n",
       "2                                    Star in the Dust  1956      80.0    49793\n",
       "3                  Star Wars: Episode IV - A New Hope  1977     121.0    76759\n",
       "4   Star Wars: Episode IV: A New Hope - Deleted Sc...  2011       8.0  8933914\n",
       "5       Star Wars: Episode IX - The Rise of Skywalker  2019     142.0  2527338\n",
       "6      Star Wars: Episode V - The Empire Strikes Back  1980     124.0    80684\n",
       "7   Star Wars: Episode V - The Empire Strikes Back...  1980      12.0  8924990\n",
       "8          Star Wars: Episode VI - Return of the Jedi  1983     131.0    86190\n",
       "9   Star Wars: Episode VI - Return of the Jedi: De...  1983       9.0  8925010\n",
       "10         Star Wars: Episode VII - The Force Awakens  2015     138.0  2488496\n",
       "11                                Starry is the Night  1988      94.0    95405\n",
       "12                                    The Star Packer  1934      53.0    25830"
      ]
     },
     "execution_count": 20,
     "metadata": {},
     "output_type": "execute_result"
    }
   ],
   "source": [
    "dfMoviesByTitlePart = pd.read_json('http://localhost:8000/movies/by_title_part?t=star')\n",
    "dfMoviesByTitlePart"
   ]
  },
  {
   "cell_type": "code",
   "execution_count": 21,
   "metadata": {},
   "outputs": [],
   "source": [
    "#DataFrames: stats_movie_by_actor"
   ]
  },
  {
   "cell_type": "code",
   "execution_count": 22,
   "metadata": {},
   "outputs": [
    {
     "data": {
      "text/html": [
       "<div>\n",
       "<style scoped>\n",
       "    .dataframe tbody tr th:only-of-type {\n",
       "        vertical-align: middle;\n",
       "    }\n",
       "\n",
       "    .dataframe tbody tr th {\n",
       "        vertical-align: top;\n",
       "    }\n",
       "\n",
       "    .dataframe thead th {\n",
       "        text-align: right;\n",
       "    }\n",
       "</style>\n",
       "<table border=\"1\" class=\"dataframe\">\n",
       "  <thead>\n",
       "    <tr style=\"text-align: right;\">\n",
       "      <th></th>\n",
       "      <th>Actor</th>\n",
       "      <th>movie_count</th>\n",
       "      <th>Année min</th>\n",
       "      <th>Année max</th>\n",
       "    </tr>\n",
       "  </thead>\n",
       "  <tbody>\n",
       "    <tr>\n",
       "      <th>0</th>\n",
       "      <td>{'birthdate': '1907-05-26', 'name': 'John Wayn...</td>\n",
       "      <td>172</td>\n",
       "      <td>1926</td>\n",
       "      <td>1976</td>\n",
       "    </tr>\n",
       "    <tr>\n",
       "      <th>1</th>\n",
       "      <td>{'birthdate': '1884-03-16', 'name': 'Harrison ...</td>\n",
       "      <td>86</td>\n",
       "      <td>1915</td>\n",
       "      <td>1932</td>\n",
       "    </tr>\n",
       "    <tr>\n",
       "      <th>2</th>\n",
       "      <td>{'birthdate': '1930-08-25', 'name': 'Sean Conn...</td>\n",
       "      <td>73</td>\n",
       "      <td>1954</td>\n",
       "      <td>2012</td>\n",
       "    </tr>\n",
       "    <tr>\n",
       "      <th>3</th>\n",
       "      <td>{'birthdate': '1946-07-06', 'name': 'Sylvester...</td>\n",
       "      <td>73</td>\n",
       "      <td>1969</td>\n",
       "      <td>2019</td>\n",
       "    </tr>\n",
       "    <tr>\n",
       "      <th>4</th>\n",
       "      <td>{'birthdate': '1956-07-09', 'name': 'Tom Hanks...</td>\n",
       "      <td>69</td>\n",
       "      <td>1980</td>\n",
       "      <td>2020</td>\n",
       "    </tr>\n",
       "    <tr>\n",
       "      <th>...</th>\n",
       "      <td>...</td>\n",
       "      <td>...</td>\n",
       "      <td>...</td>\n",
       "      <td>...</td>\n",
       "    </tr>\n",
       "    <tr>\n",
       "      <th>161</th>\n",
       "      <td>{'birthdate': '1959-01-01', 'name': 'Ving Rham...</td>\n",
       "      <td>10</td>\n",
       "      <td>1989</td>\n",
       "      <td>2017</td>\n",
       "    </tr>\n",
       "    <tr>\n",
       "      <th>162</th>\n",
       "      <td>{'birthdate': '1904-01-01', 'name': 'Fred Aldr...</td>\n",
       "      <td>10</td>\n",
       "      <td>1942</td>\n",
       "      <td>1960</td>\n",
       "    </tr>\n",
       "    <tr>\n",
       "      <th>163</th>\n",
       "      <td>{'birthdate': '1924-01-01', 'name': 'Walter Go...</td>\n",
       "      <td>10</td>\n",
       "      <td>1956</td>\n",
       "      <td>1987</td>\n",
       "    </tr>\n",
       "    <tr>\n",
       "      <th>164</th>\n",
       "      <td>{'birthdate': '1898-01-01', 'name': 'Al Taylor...</td>\n",
       "      <td>10</td>\n",
       "      <td>1931</td>\n",
       "      <td>1940</td>\n",
       "    </tr>\n",
       "    <tr>\n",
       "      <th>165</th>\n",
       "      <td>{'birthdate': '1876-01-01', 'name': 'Fred Park...</td>\n",
       "      <td>10</td>\n",
       "      <td>1932</td>\n",
       "      <td>1939</td>\n",
       "    </tr>\n",
       "  </tbody>\n",
       "</table>\n",
       "<p>166 rows × 4 columns</p>\n",
       "</div>"
      ],
      "text/plain": [
       "                                                 Actor  movie_count  \\\n",
       "0    {'birthdate': '1907-05-26', 'name': 'John Wayn...          172   \n",
       "1    {'birthdate': '1884-03-16', 'name': 'Harrison ...           86   \n",
       "2    {'birthdate': '1930-08-25', 'name': 'Sean Conn...           73   \n",
       "3    {'birthdate': '1946-07-06', 'name': 'Sylvester...           73   \n",
       "4    {'birthdate': '1956-07-09', 'name': 'Tom Hanks...           69   \n",
       "..                                                 ...          ...   \n",
       "161  {'birthdate': '1959-01-01', 'name': 'Ving Rham...           10   \n",
       "162  {'birthdate': '1904-01-01', 'name': 'Fred Aldr...           10   \n",
       "163  {'birthdate': '1924-01-01', 'name': 'Walter Go...           10   \n",
       "164  {'birthdate': '1898-01-01', 'name': 'Al Taylor...           10   \n",
       "165  {'birthdate': '1876-01-01', 'name': 'Fred Park...           10   \n",
       "\n",
       "     Année min  Année max  \n",
       "0         1926       1976  \n",
       "1         1915       1932  \n",
       "2         1954       2012  \n",
       "3         1969       2019  \n",
       "4         1980       2020  \n",
       "..         ...        ...  \n",
       "161       1989       2017  \n",
       "162       1942       1960  \n",
       "163       1956       1987  \n",
       "164       1931       1940  \n",
       "165       1932       1939  \n",
       "\n",
       "[166 rows x 4 columns]"
      ]
     },
     "execution_count": 22,
     "metadata": {},
     "output_type": "execute_result"
    }
   ],
   "source": [
    "dfStatsMovieByActor = pd.read_json('http://localhost:8000/stars/stats_movie_by_actor')\n",
    "dfStatsMovieByActor.columns=['Actor', 'movie_count','Année min','Année max']\n",
    "dfStatsMovieByActor\n",
    "\n"
   ]
  },
  {
   "cell_type": "code",
   "execution_count": 23,
   "metadata": {},
   "outputs": [],
   "source": [
    "#Répartition par année des films et naissances de star"
   ]
  },
  {
   "cell_type": "code",
   "execution_count": 24,
   "metadata": {},
   "outputs": [],
   "source": [
    "response = requests.get('http://localhost:8000/movies/count_by_year')\n",
    "data_json = response.json()\n",
    "countmovie=[]\n",
    "datemovie=[]\n",
    "for i in range (0,len(data_json)):\n",
    "    countmovie.append(data_json[i][1])\n",
    "    datemovie.append(data_json[i][0])\n",
    "\n",
    "\n",
    "response = requests.get('http://localhost:8000/stars/count_by_birthyear')\n",
    "data_json = response.json()\n",
    "del data_json[0]\n",
    "countactor=[]\n",
    "dateactor=[]\n",
    "for i in range (0,len(data_json)):\n",
    "    countactor.append(data_json[i][1])\n",
    "    dateactor.append(int(data_json[i][0][:4]))"
   ]
  },
  {
   "cell_type": "code",
   "execution_count": 13,
   "metadata": {},
   "outputs": [
    {
     "data": {
      "text/plain": [
       "<BarContainer object of 195 artists>"
      ]
     },
     "execution_count": 13,
     "metadata": {},
     "output_type": "execute_result"
    },
    {
     "data": {
      "image/png": "[encoded data removed]",
      "text/plain": [
       "<Figure size 1440x720 with 2 Axes>"
      ]
     },
     "metadata": {
      "needs_background": "light"
     },
     "output_type": "display_data"
    }
   ],
   "source": [
    "figure = plt.figure(figsize = (20, 10))\n",
    "\n",
    "axes = figure.add_subplot(1, 2, 1)\n",
    "axes.set_xlabel(\"Année\")\n",
    "axes.set_ylabel(\"Nombre de films\")\n",
    "axes.set_title('Movies by year')\n",
    "axes.bar(datemovie, countmovie, color = 'blue')\n",
    "axes = figure.add_subplot(1, 2, 2)\n",
    "axes.set_xlabel('Année')\n",
    "axes.set_ylabel(\"Nombre de naissances d'acteurs\")\n",
    "axes.set_title('Actors by birthday')\n",
    "axes.bar(dateactor,countactor,  color = 'red')"
   ]
  },
  {
   "cell_type": "code",
   "execution_count": 14,
   "metadata": {},
   "outputs": [],
   "source": [
    "#Diagramme barres sur la carrière du top 10 acteurs"
   ]
  },
  {
   "cell_type": "code",
   "execution_count": 15,
   "metadata": {},
   "outputs": [],
   "source": [
    "response = requests.get('http://localhost:8000/stars/stats_movie_by_actor')\n",
    "data_json = response.json()\n",
    "countmovie=[]\n",
    "NomActeur=[]\n",
    "datemin=[]\n",
    "datemax=[]\n",
    "for i in range (0,10):\n",
    "    countmovie.append(data_json[i][1])\n",
    "    NomActeur.append(data_json[i][0]['name'])\n",
    "    datemin.append(data_json[i][2])\n",
    "    datemax.append(data_json[i][3])"
   ]
  },
  {
   "cell_type": "code",
   "execution_count": 16,
   "metadata": {},
   "outputs": [
    {
     "data": {
      "text/plain": [
       "<BarContainer object of 10 artists>"
      ]
     },
     "execution_count": 16,
     "metadata": {},
     "output_type": "execute_result"
    },
    {
     "data": {
      "image/png": "[encoded data removed]",
      "text/plain": [
       "<Figure size 1080x432 with 1 Axes>"
      ]
     },
     "metadata": {
      "needs_background": "light"
     },
     "output_type": "display_data"
    }
   ],
   "source": [
    "fig = plt.figure(figsize = (15, 6))\n",
    "ax = fig.add_axes([0,0,1,1])\n",
    "ax.set_title('Nombre Film Top10 ')\n",
    "ax.set_ylabel('Nombre de films')\n",
    "ax.bar(NomActeur,countmovie)"
   ]
  },
  {
   "cell_type": "code",
   "execution_count": 25,
   "metadata": {},
   "outputs": [
    {
     "data": {
      "text/plain": [
       "<matplotlib.legend.Legend at 0x7f9148d13ee0>"
      ]
     },
     "execution_count": 25,
     "metadata": {},
     "output_type": "execute_result"
    },
    {
     "data": {
      "image/png": "[encoded data removed]",
      "text/plain": [
       "<Figure size 1440x720 with 1 Axes>"
      ]
     },
     "metadata": {
      "needs_background": "light"
     },
     "output_type": "display_data"
    }
   ],
   "source": [
    "x = np.arange(len(NomActeur))  \n",
    "width = 0.35 \n",
    "labels = NomActeur\n",
    "\n",
    "fig, ax = plt.subplots(figsize = (20, 10))\n",
    "ax.bar(x - width/2, datemin, width, label='Année Min')\n",
    "ax.bar(x + width/2, datemax, width, label='Année Max')\n",
    "ax.set_ylabel('Scores')\n",
    "ax.set_title('Année Min/Max Top10 Acteurs')\n",
    "ax.set_xticks(x)\n",
    "ax.set_xticklabels(labels)\n",
    "ax.set_ylim(1850,2030)\n",
    "ax.legend()"
   ]
  },
  {
   "cell_type": "code",
   "execution_count": null,
   "metadata": {},
   "outputs": [],
   "source": []
  },
  {
   "cell_type": "code",
   "execution_count": null,
   "metadata": {},
   "outputs": [],
   "source": []
  },
  {
   "cell_type": "code",
   "execution_count": null,
   "metadata": {},
   "outputs": [],
   "source": []
  }
 ],
 "metadata": {
  "kernelspec": {
   "display_name": "Python 3",
   "language": "python",
   "name": "python3"
  },
  "language_info": {
   "codemirror_mode": {
    "name": "ipython",
    "version": 3
   },
   "file_extension": ".py",
   "mimetype": "text/x-python",
   "name": "python",
   "nbconvert_exporter": "python",
   "pygments_lexer": "ipython3",
   "version": "3.8.3"
  }
 },
 "nbformat": 4,
 "nbformat_minor": 4
}
